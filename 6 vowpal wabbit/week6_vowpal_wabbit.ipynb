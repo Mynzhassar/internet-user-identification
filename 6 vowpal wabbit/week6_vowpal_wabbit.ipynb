{
  "nbformat": 4,
  "nbformat_minor": 0,
  "metadata": {
    "anaconda-cloud": {},
    "kernelspec": {
      "display_name": "Python 3",
      "language": "python",
      "name": "python3"
    },
    "language_info": {
      "codemirror_mode": {
        "name": "ipython",
        "version": 3
      },
      "file_extension": ".py",
      "mimetype": "text/x-python",
      "name": "python",
      "nbconvert_exporter": "python",
      "pygments_lexer": "ipython3",
      "version": "3.7.6"
    },
    "colab": {
      "name": "week6_vowpal_wabbit.ipynb",
      "provenance": [],
      "collapsed_sections": []
    }
  },
  "cells": [
    {
      "cell_type": "markdown",
      "metadata": {
        "id": "W9-1zxt4_bQP",
        "colab_type": "text"
      },
      "source": [
        "\n",
        "# Неделя 6.  Vowpal Wabbit\n",
        "\n",
        "На этой неделе мы познакомимся с популярной библиотекой Vowpal Wabbit и попробуем ее на данных по посещению сайтов.\n",
        "\n",
        "**План 6 недели:**\n",
        "- Часть 1. Статья по Vowpal Wabbit\n",
        "- Часть 2. Применение Vowpal Wabbit к данным по посещению сайтов\n",
        " - 2.1. Подготовка данных\n",
        " - 2.2. Валидация по отложенной выборке\n",
        " - 2.3. Валидация по тестовой выборке (Public Leaderboard)\n",
        "\n",
        "**В этой части проекта Вам могут быть полезны видеозаписи следующих лекций курса \"Обучение на размеченных данных\":**\n",
        "   - [Стохатический градиентный спуск](https://www.coursera.org/learn/supervised-learning/lecture/xRY50/stokhastichieskii-ghradiientnyi-spusk)\n",
        "   - [Линейные модели. `sklearn.linear_model`. Классификация](https://www.coursera.org/learn/supervised-learning/lecture/EBg9t/linieinyie-modieli-sklearn-linear-model-klassifikatsiia)\n",
        "   \n",
        "Также будет полезна [презентация](https://github.com/esokolov/ml-course-msu/blob/master/ML15/lecture-notes/Sem08_vw.pdf) лектора специализации Евгения Соколова. И, конечно же, [документация](https://github.com/JohnLangford/vowpal_wabbit/wiki) Vowpal Wabbit."
      ]
    },
    {
      "cell_type": "markdown",
      "metadata": {
        "id": "av6REf67_bQR",
        "colab_type": "text"
      },
      "source": [
        "### Задание\n",
        "1. Заполните код в этой тетрадке \n",
        "2. Если вы проходите специализацию Яндеса и МФТИ, пошлите файл с ответами в соответствующем Programming Assignment. <br> Если вы проходите курс ODS, выберите ответы в [веб-форме](https://docs.google.com/forms/d/1wteunpEhAt_9s-WBwxYphB6XpniXsAZiFSNuFNmvOdk)."
      ]
    },
    {
      "cell_type": "markdown",
      "metadata": {
        "id": "V3awDMvJ_bQS",
        "colab_type": "text"
      },
      "source": [
        "## Часть 1. Статья про Vowpal Wabbit\n",
        "Прочитайте [статью](https://habrahabr.ru/company/ods/blog/326418/) про Vowpal Wabbit на Хабре из серии открытого курса OpenDataScience по машинному обучению. Материал для этой статьи зародился из нашей специализации. Скачайте [тетрадку](https://github.com/Yorko/mlcourse_open/blob/master/jupyter_russian/topic08_sgd_hashing_vowpal_wabbit/topic8_sgd_hashing_vowpal_wabbit.ipynb), прилагаемую к статье, посмотрите код, изучите его, поменяйте, только так можно разобраться с Vowpal Wabbit."
      ]
    },
    {
      "cell_type": "markdown",
      "metadata": {
        "id": "U_FwgmNR_bQT",
        "colab_type": "text"
      },
      "source": [
        "## Часть 2. Применение Vowpal Wabbit к данным по посещению сайтов"
      ]
    },
    {
      "cell_type": "markdown",
      "metadata": {
        "id": "sTSU4JSw_bQT",
        "colab_type": "text"
      },
      "source": [
        "### 2.1. Подготовка данных"
      ]
    },
    {
      "cell_type": "markdown",
      "metadata": {
        "id": "h4pCYUnG_bQU",
        "colab_type": "text"
      },
      "source": [
        "**Далее посмотрим на Vowpal Wabbit в деле. Правда, в задаче нашего соревнования при бинарной классификации веб-сессий мы разницы не заметим – как по качеству, так и по скорости работы (хотя можете проверить), продемонстрируем всю резвость VW в задаче классификации на 400 классов. Исходные данные все те же самые, но выделено 400 пользователей, и решается задача их идентификации. Скачайте данные [отсюда](https://inclass.kaggle.com/c/identify-me-if-you-can4/data) – файлы `train_sessions_400users.csv` и `test_sessions_400users.csv`.**"
      ]
    },
    {
      "cell_type": "code",
      "metadata": {
        "id": "jbqmmliE_bQV",
        "colab_type": "code",
        "colab": {}
      },
      "source": [
        "import warnings\n",
        "warnings.filterwarnings('ignore')\n",
        "\n",
        "import numpy as np\n",
        "import os\n",
        "import pandas as pd\n",
        "from scipy.sparse import csr_matrix\n",
        "from sklearn.linear_model import LogisticRegression, SGDClassifier\n",
        "from sklearn.preprocessing import LabelEncoder"
      ],
      "execution_count": null,
      "outputs": []
    },
    {
      "cell_type": "code",
      "metadata": {
        "id": "DBVIj23prvsk",
        "colab_type": "code",
        "colab": {}
      },
      "source": [
        "PATH_TO_DATA = '/content/'"
      ],
      "execution_count": null,
      "outputs": []
    },
    {
      "cell_type": "markdown",
      "metadata": {
        "id": "e6dcTRhV_bQd",
        "colab_type": "text"
      },
      "source": [
        "**Загрузим обучающую и тестовую выборки. Можете заметить, что тестовые сессии здесь по времени четко отделены от сессий в обучающей выборке. **"
      ]
    },
    {
      "cell_type": "code",
      "metadata": {
        "id": "cuHeKN5X_bQe",
        "colab_type": "code",
        "colab": {}
      },
      "source": [
        "train_df_400 = pd.read_csv(os.path.join(PATH_TO_DATA,'train_sessions_400users.csv'), \n",
        "                           index_col='session_id')"
      ],
      "execution_count": null,
      "outputs": []
    },
    {
      "cell_type": "code",
      "metadata": {
        "id": "qju_XRrE_bQi",
        "colab_type": "code",
        "colab": {}
      },
      "source": [
        "test_df_400 = pd.read_csv(os.path.join(PATH_TO_DATA,'test_sessions_400users.csv'), \n",
        "                          index_col='session_id')"
      ],
      "execution_count": null,
      "outputs": []
    },
    {
      "cell_type": "code",
      "metadata": {
        "id": "-KXXXUoy_bQm",
        "colab_type": "code",
        "colab": {
          "base_uri": "https://localhost:8080/",
          "height": 426
        },
        "outputId": "4d8e4c0c-e49a-463e-83cd-a070def970b4"
      },
      "source": [
        "train_df_400.head()"
      ],
      "execution_count": null,
      "outputs": [
        {
          "output_type": "execute_result",
          "data": {
            "text/html": [
              "<div>\n",
              "<style scoped>\n",
              "    .dataframe tbody tr th:only-of-type {\n",
              "        vertical-align: middle;\n",
              "    }\n",
              "\n",
              "    .dataframe tbody tr th {\n",
              "        vertical-align: top;\n",
              "    }\n",
              "\n",
              "    .dataframe thead th {\n",
              "        text-align: right;\n",
              "    }\n",
              "</style>\n",
              "<table border=\"1\" class=\"dataframe\">\n",
              "  <thead>\n",
              "    <tr style=\"text-align: right;\">\n",
              "      <th></th>\n",
              "      <th>site1</th>\n",
              "      <th>time1</th>\n",
              "      <th>site2</th>\n",
              "      <th>time2</th>\n",
              "      <th>site3</th>\n",
              "      <th>time3</th>\n",
              "      <th>site4</th>\n",
              "      <th>time4</th>\n",
              "      <th>site5</th>\n",
              "      <th>time5</th>\n",
              "      <th>site6</th>\n",
              "      <th>time6</th>\n",
              "      <th>site7</th>\n",
              "      <th>time7</th>\n",
              "      <th>site8</th>\n",
              "      <th>time8</th>\n",
              "      <th>site9</th>\n",
              "      <th>time9</th>\n",
              "      <th>site10</th>\n",
              "      <th>time10</th>\n",
              "      <th>user_id</th>\n",
              "    </tr>\n",
              "    <tr>\n",
              "      <th>session_id</th>\n",
              "      <th></th>\n",
              "      <th></th>\n",
              "      <th></th>\n",
              "      <th></th>\n",
              "      <th></th>\n",
              "      <th></th>\n",
              "      <th></th>\n",
              "      <th></th>\n",
              "      <th></th>\n",
              "      <th></th>\n",
              "      <th></th>\n",
              "      <th></th>\n",
              "      <th></th>\n",
              "      <th></th>\n",
              "      <th></th>\n",
              "      <th></th>\n",
              "      <th></th>\n",
              "      <th></th>\n",
              "      <th></th>\n",
              "      <th></th>\n",
              "      <th></th>\n",
              "    </tr>\n",
              "  </thead>\n",
              "  <tbody>\n",
              "    <tr>\n",
              "      <th>1</th>\n",
              "      <td>23713</td>\n",
              "      <td>2014-03-24 15:22:40</td>\n",
              "      <td>23720.0</td>\n",
              "      <td>2014-03-24 15:22:48</td>\n",
              "      <td>23713.0</td>\n",
              "      <td>2014-03-24 15:22:48</td>\n",
              "      <td>23713.0</td>\n",
              "      <td>2014-03-24 15:22:54</td>\n",
              "      <td>23720.0</td>\n",
              "      <td>2014-03-24 15:22:54</td>\n",
              "      <td>23713.0</td>\n",
              "      <td>2014-03-24 15:22:55</td>\n",
              "      <td>23713.0</td>\n",
              "      <td>2014-03-24 15:23:01</td>\n",
              "      <td>23713.0</td>\n",
              "      <td>2014-03-24 15:23:03</td>\n",
              "      <td>23713.0</td>\n",
              "      <td>2014-03-24 15:23:04</td>\n",
              "      <td>23713.0</td>\n",
              "      <td>2014-03-24 15:23:05</td>\n",
              "      <td>653</td>\n",
              "    </tr>\n",
              "    <tr>\n",
              "      <th>2</th>\n",
              "      <td>8726</td>\n",
              "      <td>2014-04-17 14:25:58</td>\n",
              "      <td>8725.0</td>\n",
              "      <td>2014-04-17 14:25:59</td>\n",
              "      <td>665.0</td>\n",
              "      <td>2014-04-17 14:25:59</td>\n",
              "      <td>8727.0</td>\n",
              "      <td>2014-04-17 14:25:59</td>\n",
              "      <td>45.0</td>\n",
              "      <td>2014-04-17 14:25:59</td>\n",
              "      <td>8725.0</td>\n",
              "      <td>2014-04-17 14:26:01</td>\n",
              "      <td>45.0</td>\n",
              "      <td>2014-04-17 14:26:01</td>\n",
              "      <td>5320.0</td>\n",
              "      <td>2014-04-17 14:26:18</td>\n",
              "      <td>5320.0</td>\n",
              "      <td>2014-04-17 14:26:47</td>\n",
              "      <td>5320.0</td>\n",
              "      <td>2014-04-17 14:26:48</td>\n",
              "      <td>198</td>\n",
              "    </tr>\n",
              "    <tr>\n",
              "      <th>3</th>\n",
              "      <td>303</td>\n",
              "      <td>2014-03-21 10:12:24</td>\n",
              "      <td>19.0</td>\n",
              "      <td>2014-03-21 10:12:36</td>\n",
              "      <td>303.0</td>\n",
              "      <td>2014-03-21 10:12:54</td>\n",
              "      <td>303.0</td>\n",
              "      <td>2014-03-21 10:13:01</td>\n",
              "      <td>303.0</td>\n",
              "      <td>2014-03-21 10:13:24</td>\n",
              "      <td>303.0</td>\n",
              "      <td>2014-03-21 10:13:36</td>\n",
              "      <td>303.0</td>\n",
              "      <td>2014-03-21 10:13:54</td>\n",
              "      <td>309.0</td>\n",
              "      <td>2014-03-21 10:14:01</td>\n",
              "      <td>303.0</td>\n",
              "      <td>2014-03-21 10:14:06</td>\n",
              "      <td>303.0</td>\n",
              "      <td>2014-03-21 10:14:24</td>\n",
              "      <td>34</td>\n",
              "    </tr>\n",
              "    <tr>\n",
              "      <th>4</th>\n",
              "      <td>1359</td>\n",
              "      <td>2013-12-13 09:52:28</td>\n",
              "      <td>925.0</td>\n",
              "      <td>2013-12-13 09:54:34</td>\n",
              "      <td>1240.0</td>\n",
              "      <td>2013-12-13 09:54:34</td>\n",
              "      <td>1360.0</td>\n",
              "      <td>2013-12-13 09:54:34</td>\n",
              "      <td>1344.0</td>\n",
              "      <td>2013-12-13 09:54:34</td>\n",
              "      <td>1359.0</td>\n",
              "      <td>2013-12-13 09:54:34</td>\n",
              "      <td>1346.0</td>\n",
              "      <td>2013-12-13 09:54:34</td>\n",
              "      <td>1345.0</td>\n",
              "      <td>2013-12-13 09:54:34</td>\n",
              "      <td>1344.0</td>\n",
              "      <td>2013-12-13 09:58:19</td>\n",
              "      <td>1345.0</td>\n",
              "      <td>2013-12-13 09:58:19</td>\n",
              "      <td>601</td>\n",
              "    </tr>\n",
              "    <tr>\n",
              "      <th>5</th>\n",
              "      <td>11</td>\n",
              "      <td>2013-11-26 12:35:29</td>\n",
              "      <td>85.0</td>\n",
              "      <td>2013-11-26 12:35:31</td>\n",
              "      <td>52.0</td>\n",
              "      <td>2013-11-26 12:35:31</td>\n",
              "      <td>85.0</td>\n",
              "      <td>2013-11-26 12:35:32</td>\n",
              "      <td>11.0</td>\n",
              "      <td>2013-11-26 12:35:32</td>\n",
              "      <td>52.0</td>\n",
              "      <td>2013-11-26 12:35:32</td>\n",
              "      <td>11.0</td>\n",
              "      <td>2013-11-26 12:37:03</td>\n",
              "      <td>85.0</td>\n",
              "      <td>2013-11-26 12:37:03</td>\n",
              "      <td>10.0</td>\n",
              "      <td>2013-11-26 12:37:03</td>\n",
              "      <td>85.0</td>\n",
              "      <td>2013-11-26 12:37:04</td>\n",
              "      <td>273</td>\n",
              "    </tr>\n",
              "  </tbody>\n",
              "</table>\n",
              "</div>"
            ],
            "text/plain": [
              "            site1                time1  ...               time10 user_id\n",
              "session_id                              ...                             \n",
              "1           23713  2014-03-24 15:22:40  ...  2014-03-24 15:23:05     653\n",
              "2            8726  2014-04-17 14:25:58  ...  2014-04-17 14:26:48     198\n",
              "3             303  2014-03-21 10:12:24  ...  2014-03-21 10:14:24      34\n",
              "4            1359  2013-12-13 09:52:28  ...  2013-12-13 09:58:19     601\n",
              "5              11  2013-11-26 12:35:29  ...  2013-11-26 12:37:04     273\n",
              "\n",
              "[5 rows x 21 columns]"
            ]
          },
          "metadata": {
            "tags": []
          },
          "execution_count": 6
        }
      ]
    },
    {
      "cell_type": "markdown",
      "metadata": {
        "id": "MBiDNIGJ_bQq",
        "colab_type": "text"
      },
      "source": [
        "**Видим, что в обучающей выборке 182793 сессий, в тестовой – 46473, и сессии действительно принадлежат 400 различным пользователям.**"
      ]
    },
    {
      "cell_type": "code",
      "metadata": {
        "id": "WsqRJwhP_bQr",
        "colab_type": "code",
        "colab": {
          "base_uri": "https://localhost:8080/",
          "height": 35
        },
        "outputId": "5cde04f2-21de-4daf-c95f-d0ed65c56716"
      },
      "source": [
        "train_df_400.shape, test_df_400.shape, train_df_400['user_id'].nunique()"
      ],
      "execution_count": null,
      "outputs": [
        {
          "output_type": "execute_result",
          "data": {
            "text/plain": [
              "((182793, 21), (46473, 20), 400)"
            ]
          },
          "metadata": {
            "tags": []
          },
          "execution_count": 7
        }
      ]
    },
    {
      "cell_type": "markdown",
      "metadata": {
        "id": "_7j6v7l0_bQv",
        "colab_type": "text"
      },
      "source": [
        "**Vowpal Wabbit любит, чтоб метки классов были распределены от 1 до K, где K – число классов в задаче классификации (в нашем случае – 400). Поэтому придется применить `LabelEncoder`, да еще и +1 потом добавить (`LabelEncoder` переводит метки в диапозон от 0 до K-1). Потом надо будет применить обратное преобразование.**"
      ]
    },
    {
      "cell_type": "code",
      "metadata": {
        "id": "moASBWly_bQw",
        "colab_type": "code",
        "colab": {}
      },
      "source": [
        "y = train_df_400['user_id']\n",
        "class_encoder = LabelEncoder()\n",
        "y_for_vw = class_encoder.fit_transform(y) + 1"
      ],
      "execution_count": null,
      "outputs": []
    },
    {
      "cell_type": "markdown",
      "metadata": {
        "id": "oDQLj1rE_bQ0",
        "colab_type": "text"
      },
      "source": [
        "**Далее будем сравнивать VW с SGDClassifier и с логистической регрессией. Всем моделям этим нужна предобработка входных данных. Подготовьте для sklearn-моделей разреженные матрицы, как мы это делали в 5 части:**\n",
        "- объедините обучающиую и тестовую выборки\n",
        "- выберите только сайты (признаки от 'site1' до 'site10')\n",
        "- замените пропуски на нули (сайты у нас нумеровались с 0)\n",
        "- переведите в разреженный формат `csr_matrix`\n",
        "- разбейте обратно на обучающую и тестовую части"
      ]
    },
    {
      "cell_type": "code",
      "metadata": {
        "id": "nxUzf0qS_bQ0",
        "colab_type": "code",
        "colab": {}
      },
      "source": [
        "sites = ['site' + str(i) for i in range(1, 11)]"
      ],
      "execution_count": null,
      "outputs": []
    },
    {
      "cell_type": "code",
      "metadata": {
        "id": "xa8aQ8Wc_bRA",
        "colab_type": "code",
        "colab": {}
      },
      "source": [
        "def sparse_matr_gen(X):\n",
        "    indptr = [0]\n",
        "    indices = []\n",
        "    data = []    \n",
        "\n",
        "    for session in X:\n",
        "        for site in session:\n",
        "            if site == 0: continue # site with id=0 is not taken into account\n",
        "            indices.append(site-1) # for numbering with id=0 (not id=1), i.e. deleting column 0\n",
        "            data.append(1)\n",
        "        indptr.append(len(indices))    \n",
        "    \n",
        "    return csr_matrix((data, indices, indptr))"
      ],
      "execution_count": null,
      "outputs": []
    },
    {
      "cell_type": "code",
      "metadata": {
        "id": "lR9aJWBo_bRE",
        "colab_type": "code",
        "colab": {}
      },
      "source": [
        "train_test_df = pd.concat([train_df_400, test_df_400])\n",
        "train_test_df_sites = train_test_df[sites].fillna(0).astype('int')\n",
        "train_test_sparse = sparse_matr_gen(train_test_df_sites.values)\n",
        "\n",
        "X_train_sparse = train_test_sparse[:train_df_400.shape[0]]\n",
        "X_test_sparse = train_test_sparse[train_df_400.shape[0]:]"
      ],
      "execution_count": null,
      "outputs": []
    },
    {
      "cell_type": "markdown",
      "metadata": {
        "id": "EFpjiY8n_bRH",
        "colab_type": "text"
      },
      "source": [
        "### 2.2. Валидация по отложенной выборке"
      ]
    },
    {
      "cell_type": "markdown",
      "metadata": {
        "id": "q6CcTfcC_bRI",
        "colab_type": "text"
      },
      "source": [
        "**Выделим обучающую (70%) и отложенную (30%) части исходной обучающей выборки. Данные не перемешиваем, учитываем, что сессии отсортированы по времени.**"
      ]
    },
    {
      "cell_type": "code",
      "metadata": {
        "id": "9UfEKF5w_bRJ",
        "colab_type": "code",
        "colab": {}
      },
      "source": [
        "train_share = int(.7 * train_df_400.shape[0])\n",
        "train_df_part = train_df_400[sites].iloc[:train_share, :]\n",
        "valid_df = train_df_400[sites].iloc[train_share:, :]\n",
        "X_train_part_sparse = X_train_sparse[:train_share, :]\n",
        "X_valid_sparse = X_train_sparse[train_share:, :]"
      ],
      "execution_count": null,
      "outputs": []
    },
    {
      "cell_type": "code",
      "metadata": {
        "id": "CV1lY4Dw_bRM",
        "colab_type": "code",
        "colab": {}
      },
      "source": [
        "y_train_part = y[:train_share]\n",
        "y_valid = y[train_share:]\n",
        "y_train_part_for_vw = y_for_vw[:train_share]\n",
        "y_valid_for_vw = y_for_vw[train_share:]"
      ],
      "execution_count": null,
      "outputs": []
    },
    {
      "cell_type": "markdown",
      "metadata": {
        "id": "GHHDgQ6B_bRP",
        "colab_type": "text"
      },
      "source": [
        "**Реализуйте функцию, `arrays_to_vw`, переводящую обучающую выборку в формат Vowpal Wabbit.**\n",
        "\n",
        "Вход:\n",
        " - X – матрица `NumPy` (обучающая выборка)\n",
        " - y (необяз.) - вектор ответов (`NumPy`). Необязателен, поскольку тестовую матрицу будем обрабатывать этой же функцией\n",
        " - train – флаг, True в случае обучающей выборки, False – в случае тестовой выборки\n",
        " - out_file – путь к файлу .vw, в который будет произведена запись\n",
        " \n",
        "Детали:\n",
        "- надо пройтись по всем строкам матрицы `X` и записать через пробел все значения, предварительно добавив вперед нужную метку класса из вектора `y` и знак-разделитель `|`\n",
        "- в тестовой выборке на месте меток целевого класса можно писать произвольные, допустим, 1"
      ]
    },
    {
      "cell_type": "code",
      "metadata": {
        "id": "8ReO-2eh_bRP",
        "colab_type": "code",
        "colab": {}
      },
      "source": [
        "def arrays_to_vw(X, y=None, train=True, out_file='tmp.vw'):\n",
        "  with open(out_file, 'w') as f:\n",
        "    for i, row in enumerate(X):\n",
        "      f.write(str(1 if y is None else y[i])+ ' | ' + ' '.join(map(str, row)) + '\\n')"
      ],
      "execution_count": null,
      "outputs": []
    },
    {
      "cell_type": "markdown",
      "metadata": {
        "id": "2VV3LBx9_bRW",
        "colab_type": "text"
      },
      "source": [
        "**Примените написанную функцию к части обучащей выборки `(train_df_part, y_train_part_for_vw)`, к отложенной выборке `(valid_df, y_valid_for_vw)`, ко всей обучающей выборке и ко всей тестовой выборке. Обратите внимание, что на вход наш метод принимает именно матрицы и вектора `NumPy`.**"
      ]
    },
    {
      "cell_type": "code",
      "metadata": {
        "id": "Q_Rce9_i_bRX",
        "colab_type": "code",
        "colab": {
          "base_uri": "https://localhost:8080/",
          "height": 52
        },
        "outputId": "fab436ff-a19f-451c-aaec-69819b27a8c2"
      },
      "source": [
        "%%time\n",
        "# будет 4 вызова\n",
        "arrays_to_vw(train_df_part.values, y_train_part_for_vw, out_file='train_part.vw')\n",
        "arrays_to_vw(valid_df.values, y_valid_for_vw, out_file='valid.vw')\n",
        "arrays_to_vw(train_df_400.values, y_for_vw, out_file='train.vw')\n",
        "arrays_to_vw(test_df_400.values, out_file='test.vw')"
      ],
      "execution_count": null,
      "outputs": [
        {
          "output_type": "stream",
          "text": [
            "CPU times: user 3.12 s, sys: 199 ms, total: 3.32 s\n",
            "Wall time: 3.32 s\n"
          ],
          "name": "stdout"
        }
      ]
    },
    {
      "cell_type": "markdown",
      "metadata": {
        "id": "Bn8etugo_bRb",
        "colab_type": "text"
      },
      "source": [
        "**Обучите модель Vowpal Wabbitна выборке `train_part.vw`. Укажите, что решается задача классификации с 400 классами (`--oaa`), сделайте 3 прохода по выборке (`--passes`). Задайте некоторый кэш-файл (`--cache_file`, можно просто указать флаг `-c`), так VW будет быстрее делать все следующие после первого проходы по выборке (прошлый кэш-файл удаляется с помощью аргумента `-k`). Также укажите значение параметра `b`=26. Это число бит, используемых для хэширования, в данном случае нужно больше, чем 18 по умолчанию. Наконец, укажите `random_seed`=17. Остальные параметры пока не меняйте, далее уже в свободном режиме соревнования можете попробовать другие функции потерь.**"
      ]
    },
    {
      "cell_type": "code",
      "metadata": {
        "id": "thFXguMY_bRb",
        "colab_type": "code",
        "colab": {}
      },
      "source": [
        "train_part_vw = os.path.join(PATH_TO_DATA, 'train_part.vw')\n",
        "valid_vw = os.path.join(PATH_TO_DATA, 'valid.vw')\n",
        "train_vw = os.path.join(PATH_TO_DATA, 'train.vw')\n",
        "test_vw = os.path.join(PATH_TO_DATA, 'test.vw')\n",
        "model = os.path.join(PATH_TO_DATA, 'vw_model.vw')\n",
        "pred = os.path.join(PATH_TO_DATA, 'vw_pred.csv')"
      ],
      "execution_count": null,
      "outputs": []
    },
    {
      "cell_type": "code",
      "metadata": {
        "id": "DqarH52LAiyU",
        "colab_type": "code",
        "colab": {}
      },
      "source": [
        "!sudo apt-get install vowpal-wabbit"
      ],
      "execution_count": null,
      "outputs": []
    },
    {
      "cell_type": "code",
      "metadata": {
        "id": "eqeLD2MD_bRe",
        "colab_type": "code",
        "colab": {
          "base_uri": "https://localhost:8080/",
          "height": 748
        },
        "outputId": "b08930b0-998e-4572-d5f0-bc6c93981760"
      },
      "source": [
        "%%time\n",
        "!vw --oaa 400 $PATH_TO_DATA/train_part.vw --passes 3 -c -k -f $PATH_TO_DATA/train_part_model.vw -b 26 --random_seed 17"
      ],
      "execution_count": null,
      "outputs": [
        {
          "output_type": "stream",
          "text": [
            "final_regressor = /content//train_part_model.vw\n",
            "Num weight bits = 26\n",
            "learning rate = 0.5\n",
            "initial_t = 0\n",
            "power_t = 0.5\n",
            "decay_learning_rate = 1\n",
            "tcmalloc: large alloc 1073741824 bytes == 0x555e69a18000 @  0x7f8192d0e001 0x7f81928aab5f 0x7f81928b8a21 0x7f819295be00 0x7f8192949be3 0x7f8192951395 0x7f8192951c44 0x555e67f71237 0x555e67f70a8b 0x7f8191ec9b97 0x555e67f7105a\n",
            "creating cache_file = /content//train_part.vw.cache\n",
            "Reading datafile = /content//train_part.vw\n",
            "num sources = 1\n",
            "average  since         example        example  current  current  current\n",
            "loss     last          counter         weight    label  predict features\n",
            "1.000000 1.000000            1            1.0      262        1       11\n",
            "1.000000 1.000000            2            2.0       82      262       11\n",
            "1.000000 1.000000            4            4.0      241      262       11\n",
            "1.000000 1.000000            8            8.0      352      262       11\n",
            "1.000000 1.000000           16           16.0      135       16       11\n",
            "1.000000 1.000000           32           32.0       71      112       11\n",
            "0.968750 0.937500           64           64.0      358      231       11\n",
            "0.976562 0.984375          128          128.0      348      346       11\n",
            "0.941406 0.906250          256          256.0      202      202       11\n",
            "0.947266 0.953125          512          512.0       30        1       11\n",
            "0.925781 0.904297         1024         1024.0       36      290       11\n",
            "0.907715 0.889648         2048         2048.0       21      128       11\n",
            "0.879883 0.852051         4096         4096.0       80      229       11\n",
            "0.856323 0.832764         8192         8192.0      307      356       11\n",
            "0.828064 0.799805        16384        16384.0       59      193       11\n",
            "0.795898 0.763733        32768        32768.0      262       30       11\n",
            "0.761475 0.727051        65536        65536.0      171      238       11\n",
            "0.725862 0.725862       131072       131072.0        6        6       11 h\n",
            "0.698953 0.672046       262144       262144.0       12       12       11 h\n",
            "\n",
            "finished run\n",
            "number of examples per pass = 115160\n",
            "passes used = 3\n",
            "weighted example sum = 345480.000000\n",
            "weighted label sum = 0.000000\n",
            "average loss = 0.662524 h\n",
            "total feature number = 3800280\n",
            "CPU times: user 118 ms, sys: 27.3 ms, total: 145 ms\n",
            "Wall time: 34.5 s\n"
          ],
          "name": "stdout"
        }
      ]
    },
    {
      "cell_type": "markdown",
      "metadata": {
        "id": "GyW7mfIy_bRh",
        "colab_type": "text"
      },
      "source": [
        "**Запишите прогнозы на выборке *valid.vw* в *vw_valid_pred.csv*.**"
      ]
    },
    {
      "cell_type": "code",
      "metadata": {
        "id": "xlFWgkfo_bRh",
        "colab_type": "code",
        "colab": {
          "base_uri": "https://localhost:8080/",
          "height": 659
        },
        "outputId": "be469b4e-8959-43b7-e424-c68c6f8b968d"
      },
      "source": [
        "%%time\n",
        "!vw -i $PATH_TO_DATA/train_part_model.vw -t -d $PATH_TO_DATA/valid.vw -p $PATH_TO_DATA/vw_valid_pred.csv"
      ],
      "execution_count": null,
      "outputs": [
        {
          "output_type": "stream",
          "text": [
            "only testing\n",
            "predictions = /content//vw_valid_pred.csv\n",
            "Num weight bits = 26\n",
            "learning rate = 0.5\n",
            "initial_t = 0\n",
            "power_t = 0.5\n",
            "using no cache\n",
            "Reading datafile = /content//valid.vw\n",
            "num sources = 1\n",
            "average  since         example        example  current  current  current\n",
            "loss     last          counter         weight    label  predict features\n",
            "1.000000 1.000000            1            1.0        4      188       11\n",
            "1.000000 1.000000            2            2.0      160      220       11\n",
            "0.750000 0.500000            4            4.0      143      143       11\n",
            "0.750000 0.750000            8            8.0      247      247       11\n",
            "0.687500 0.625000           16           16.0      341       30       11\n",
            "0.593750 0.500000           32           32.0      237      237       11\n",
            "0.609375 0.625000           64           64.0      178      178       11\n",
            "0.656250 0.703125          128          128.0      132      228       11\n",
            "0.664062 0.671875          256          256.0       14       14       11\n",
            "0.652344 0.640625          512          512.0      370      370       11\n",
            "0.665039 0.677734         1024         1024.0      189      189       11\n",
            "0.656250 0.647461         2048         2048.0      311      311       11\n",
            "0.657471 0.658691         4096         4096.0      195      318       11\n",
            "0.660889 0.664307         8192         8192.0      171      195       11\n",
            "0.659607 0.658325        16384        16384.0      362        2       11\n",
            "0.657257 0.654907        32768        32768.0      248      248       11\n",
            "\n",
            "finished run\n",
            "number of examples per pass = 54838\n",
            "passes used = 1\n",
            "weighted example sum = 54838.000000\n",
            "weighted label sum = 0.000000\n",
            "average loss = 0.657227\n",
            "total feature number = 603218\n",
            "CPU times: user 36 ms, sys: 12.4 ms, total: 48.4 ms\n",
            "Wall time: 4.53 s\n"
          ],
          "name": "stdout"
        }
      ]
    },
    {
      "cell_type": "markdown",
      "metadata": {
        "id": "E6FABF2q_bRl",
        "colab_type": "text"
      },
      "source": [
        "**Считайте прогнозы *kaggle_data/vw_valid_pred.csv*  из файла и посмотрите на долю правильных ответов на отложенной части.**"
      ]
    },
    {
      "cell_type": "code",
      "metadata": {
        "id": "FlN0EECL_bRp",
        "colab_type": "code",
        "colab": {
          "base_uri": "https://localhost:8080/",
          "height": 35
        },
        "outputId": "1d4399df-0d3f-4631-a28b-257aad42e9ee"
      },
      "source": [
        "from sklearn.metrics import accuracy_score\n",
        "\n",
        "vw_valid_pred = pd.read_csv('vw_valid_pred.csv', header=None)\n",
        "np.around(accuracy_score(y_valid_for_vw, vw_valid_pred.values), 3)"
      ],
      "execution_count": null,
      "outputs": [
        {
          "output_type": "execute_result",
          "data": {
            "text/plain": [
              "0.343"
            ]
          },
          "metadata": {
            "tags": []
          },
          "execution_count": 20
        }
      ]
    },
    {
      "cell_type": "markdown",
      "metadata": {
        "id": "T6J5qakl_bRr",
        "colab_type": "text"
      },
      "source": [
        "**Теперь обучите `SGDClassifier` (3 прохода по выборке, логистическая функция потерь) и `LogisticRegression` на 70% разреженной обучающей выборки – `(X_train_part_sparse, y_train_part)`, сделайте прогноз для отложенной выборки `(X_valid_sparse, y_valid)` и посчитайте доли верных ответов. Логистическая регрессия будет обучаться не быстро (у меня – 4 минуты) – это нормально. Укажите везде `random_state`=17, `n_jobs`=-1. Для `SGDClassifier` также укажите `max_iter=3`.**"
      ]
    },
    {
      "cell_type": "code",
      "metadata": {
        "id": "70_x8qy6_bRs",
        "colab_type": "code",
        "colab": {}
      },
      "source": [
        "logit = LogisticRegression(random_state=17, n_jobs=-1)\n",
        "sgd_logit = SGDClassifier(random_state=17, n_jobs=-1, max_iter=3)"
      ],
      "execution_count": null,
      "outputs": []
    },
    {
      "cell_type": "code",
      "metadata": {
        "id": "AA2_jUF__bRv",
        "colab_type": "code",
        "colab": {
          "base_uri": "https://localhost:8080/",
          "height": 121
        },
        "outputId": "d2ec0223-7e57-456f-f53a-a17cf15921ac"
      },
      "source": [
        "%%time\n",
        "logit.fit(X_train_part_sparse, y_train_part)"
      ],
      "execution_count": null,
      "outputs": [
        {
          "output_type": "stream",
          "text": [
            "CPU times: user 281 ms, sys: 315 ms, total: 597 ms\n",
            "Wall time: 10min 55s\n"
          ],
          "name": "stdout"
        },
        {
          "output_type": "execute_result",
          "data": {
            "text/plain": [
              "LogisticRegression(C=1.0, class_weight=None, dual=False, fit_intercept=True,\n",
              "                   intercept_scaling=1, l1_ratio=None, max_iter=100,\n",
              "                   multi_class='auto', n_jobs=-1, penalty='l2', random_state=17,\n",
              "                   solver='lbfgs', tol=0.0001, verbose=0, warm_start=False)"
            ]
          },
          "metadata": {
            "tags": []
          },
          "execution_count": 22
        }
      ]
    },
    {
      "cell_type": "code",
      "metadata": {
        "id": "NqHKU3Dj_bRy",
        "colab_type": "code",
        "colab": {
          "base_uri": "https://localhost:8080/",
          "height": 156
        },
        "outputId": "81f9ac58-b58a-42d8-9b3b-fad74d051308"
      },
      "source": [
        "%%time\n",
        "sgd_logit.fit(X_train_part_sparse, y_train_part)"
      ],
      "execution_count": null,
      "outputs": [
        {
          "output_type": "stream",
          "text": [
            "CPU times: user 56.3 s, sys: 16.6 s, total: 1min 12s\n",
            "Wall time: 37 s\n"
          ],
          "name": "stdout"
        },
        {
          "output_type": "execute_result",
          "data": {
            "text/plain": [
              "SGDClassifier(alpha=0.0001, average=False, class_weight=None,\n",
              "              early_stopping=False, epsilon=0.1, eta0=0.0, fit_intercept=True,\n",
              "              l1_ratio=0.15, learning_rate='optimal', loss='hinge', max_iter=3,\n",
              "              n_iter_no_change=5, n_jobs=-1, penalty='l2', power_t=0.5,\n",
              "              random_state=17, shuffle=True, tol=0.001, validation_fraction=0.1,\n",
              "              verbose=0, warm_start=False)"
            ]
          },
          "metadata": {
            "tags": []
          },
          "execution_count": 23
        }
      ]
    },
    {
      "cell_type": "markdown",
      "metadata": {
        "id": "sTeXPRCG_bR1",
        "colab_type": "text"
      },
      "source": [
        "**<font color='red'>Вопрос 1. </font> Посчитайте долю правильных ответов на отложенной выборке для Vowpal Wabbit, округлите до 3 знаков после запятой.**\n",
        "\n",
        "**<font color='red'>Вопрос 2. </font> Посчитайте долю правильных ответов на отложенной выборке для SGD, округлите до 3 знаков после запятой.**\n",
        "\n",
        "**<font color='red'>Вопрос 3. </font> Посчитайте долю правильных ответов на отложенной выборке для логистической регрессии, округлите до 3 знаков после запятой.**"
      ]
    },
    {
      "cell_type": "code",
      "metadata": {
        "id": "DgoewqGC_bR2",
        "colab_type": "code",
        "colab": {}
      },
      "source": [
        "vw_valid_acc = accuracy_score(y_valid_for_vw, vw_valid_pred.values)\n",
        "sgd_valid_acc = accuracy_score(y_valid, sgd_logit.predict(X_valid_sparse))\n",
        "logit_valid_acc = accuracy_score(y_valid, logit.predict(X_valid_sparse))"
      ],
      "execution_count": null,
      "outputs": []
    },
    {
      "cell_type": "code",
      "metadata": {
        "id": "5ali5nX5_bR7",
        "colab_type": "code",
        "colab": {}
      },
      "source": [
        "def write_answer_to_file(answer, file_address):\n",
        "    with open(file_address, 'w') as out_f:\n",
        "        out_f.write(str(answer))"
      ],
      "execution_count": null,
      "outputs": []
    },
    {
      "cell_type": "code",
      "metadata": {
        "id": "4LWdHC0P_bSC",
        "colab_type": "code",
        "colab": {}
      },
      "source": [
        "write_answer_to_file(round(vw_valid_acc, 3), 'answer6_1.txt')\n",
        "write_answer_to_file(round(sgd_valid_acc, 3), 'answer6_2.txt')\n",
        "write_answer_to_file(round(logit_valid_acc, 3), 'answer6_3.txt')"
      ],
      "execution_count": null,
      "outputs": []
    },
    {
      "cell_type": "markdown",
      "metadata": {
        "id": "EbHJwfhI_bSM",
        "colab_type": "text"
      },
      "source": [
        "### 2.3. Валидация по тестовой выборке (Public Leaderboard)"
      ]
    },
    {
      "cell_type": "markdown",
      "metadata": {
        "id": "CG8GpeR7_bSO",
        "colab_type": "text"
      },
      "source": [
        "**Обучите модель VW с теми же параметрами на всей обучающей выборке – *train.vw*.**"
      ]
    },
    {
      "cell_type": "code",
      "metadata": {
        "id": "uNDZ8W0l_bSP",
        "colab_type": "code",
        "colab": {}
      },
      "source": [
        "%%time\n",
        "!vw --oaa 400 $PATH_TO_DATA/train.vw --passes 3 -c -k -f $PATH_TO_DATA/train_model.vw -b 26 --random_seed 17"
      ],
      "execution_count": null,
      "outputs": []
    },
    {
      "cell_type": "markdown",
      "metadata": {
        "id": "B6MEvGfM_bSW",
        "colab_type": "text"
      },
      "source": [
        "**Сделайте прогноз для тестовой выборки.**"
      ]
    },
    {
      "cell_type": "code",
      "metadata": {
        "id": "enbGy02D_bSX",
        "colab_type": "code",
        "colab": {
          "base_uri": "https://localhost:8080/"
        },
        "outputId": "74cee3d7-ffcf-41a4-e5c3-c41ff2b85461"
      },
      "source": [
        "%%time\n",
        "!vw -i $PATH_TO_DATA/train_model.vw -t -d $PATH_TO_DATA/test.vw -p $PATH_TO_DATA/vw_test_pred.csv"
      ],
      "execution_count": null,
      "outputs": []
    },
    {
      "cell_type": "markdown",
      "metadata": {
        "id": "r6reso9X_bSa",
        "colab_type": "text"
      },
      "source": [
        "**Запишите прогноз в файл, примените обратное преобразование меток (был LabelEncoder и потом +1 в меткам) и отправьте решение на Kaggle.**"
      ]
    },
    {
      "cell_type": "code",
      "metadata": {
        "id": "F7E_EiQ1_bSb",
        "colab_type": "code",
        "colab": {}
      },
      "source": [
        "def write_to_submission_file(predicted_labels, out_file,\n",
        "                             target='user_id', index_label=\"session_id\"):\n",
        "    # turn predictions into data frame and save as csv file\n",
        "    predicted_df = pd.DataFrame(predicted_labels,\n",
        "                                index = np.arange(1, predicted_labels.shape[0] + 1),\n",
        "                                columns=[target])\n",
        "    predicted_df.to_csv(out_file, index_label=index_label)"
      ],
      "execution_count": null,
      "outputs": []
    },
    {
      "cell_type": "code",
      "metadata": {
        "id": "xTObmfGv_bSe",
        "colab_type": "code",
        "colab": {}
      },
      "source": [
        "vw_test_pred = pd.read_csv(os.path.join(PATH_TO_DATA,'vw_test_pred.csv'), header=None)\n",
        "vw_pred = class_encoder.inverse_transform(vw_test_pred - 1)"
      ],
      "execution_count": null,
      "outputs": []
    },
    {
      "cell_type": "code",
      "metadata": {
        "id": "b3ZaNYnZ_bSh",
        "colab_type": "code",
        "colab": {}
      },
      "source": [
        "write_to_submission_file(vw_pred, os.path.join(PATH_TO_DATA, 'vw_400_users.csv'))"
      ],
      "execution_count": null,
      "outputs": []
    },
    {
      "cell_type": "markdown",
      "metadata": {
        "id": "mAY5EKhG_bSo",
        "colab_type": "text"
      },
      "source": [
        "**Сделайте то же самое для SGD и логистической регрессии. Тут уже ждать обучение логистической регрессии совсем скучно (заново запускать тетрадку вам не захочется), но давайте дождемся.**"
      ]
    },
    {
      "cell_type": "code",
      "metadata": {
        "id": "q7ind3NB_bSo",
        "colab_type": "code",
        "colab": {
          "base_uri": "https://localhost:8080/",
          "height": 121
        },
        "outputId": "71940b94-c45e-450f-b630-402e25a667fc"
      },
      "source": [
        "logit.fit(X_train_sparse, y)\n",
        "sgd_logit.fit(X_train_sparse, y)"
      ],
      "execution_count": null,
      "outputs": [
        {
          "output_type": "execute_result",
          "data": {
            "text/plain": [
              "SGDClassifier(alpha=0.0001, average=False, class_weight=None,\n",
              "              early_stopping=False, epsilon=0.1, eta0=0.0, fit_intercept=True,\n",
              "              l1_ratio=0.15, learning_rate='optimal', loss='hinge', max_iter=3,\n",
              "              n_iter_no_change=5, n_jobs=-1, penalty='l2', power_t=0.5,\n",
              "              random_state=17, shuffle=True, tol=0.001, validation_fraction=0.1,\n",
              "              verbose=0, warm_start=False)"
            ]
          },
          "metadata": {
            "tags": []
          },
          "execution_count": 32
        }
      ]
    },
    {
      "cell_type": "code",
      "metadata": {
        "id": "kJZGIEl0tKT6",
        "colab_type": "code",
        "colab": {}
      },
      "source": [
        "logit_test_pred = logit.predict(X_test_sparse)\n",
        "sgd_logit_test_pred = sgd_logit.predict(X_test_sparse)"
      ],
      "execution_count": null,
      "outputs": []
    },
    {
      "cell_type": "code",
      "metadata": {
        "id": "BW84qoho_bSt",
        "colab_type": "code",
        "colab": {}
      },
      "source": [
        "write_to_submission_file(logit_test_pred, \n",
        "                         os.path.join(PATH_TO_DATA, 'logit_400_users.csv'))\n",
        "write_to_submission_file(sgd_logit_test_pred, \n",
        "                         os.path.join(PATH_TO_DATA, 'sgd_400_users.csv'))"
      ],
      "execution_count": null,
      "outputs": []
    },
    {
      "cell_type": "markdown",
      "metadata": {
        "id": "aFm_IjR9_bSy",
        "colab_type": "text"
      },
      "source": [
        "Посмотрим на доли правильных ответов на публичной части (public leaderboard) тестовой выборки [этого](https://inclass.kaggle.com/c/identify-me-if-you-can4) соревнования.\n",
        "\n",
        "**<font color='red'>Вопрос 4. </font> Какова доля правильных ответов на публичной части тестовой выборки (public leaderboard)  для Vowpal Wabbit?**\n",
        "\n",
        "**<font color='red'>Вопрос 5. </font> Какова доля правильных ответов на публичной части тестовой выборки (public leaderboard)  для SGD?**\n",
        "\n",
        "**<font color='red'>Вопрос 6. </font> Какова доля правильных ответов на публичной части тестовой выборки (public leaderboard)  для логистической регрессии?**\n"
      ]
    },
    {
      "cell_type": "markdown",
      "metadata": {
        "id": "-5_y28Ob_bS-",
        "colab_type": "text"
      },
      "source": [
        "**В заключение по заданию:**\n",
        "- Про соотношение качества классификации и скорости обучения VW, SGD и logit выводы предлагается сделать самостоятельно\n",
        "- Пожалуй, задача классификации на 400 классов (идентификация 400 пользователей) решается недостаточно хорошо при честном отделении по времени тестовой выборки от обучающей. Далее мы будем соревноваться в идентификации одного пользователя (Элис) – [вот](https://inclass.kaggle.com/c/catch-me-if-you-can-intruder-detection-through-webpage-session-tracking2) соревнование, в котором предлагается поучаствовать. Не перепутайте! \n",
        "\n",
        "**Удачи!**"
      ]
    }
  ]
}