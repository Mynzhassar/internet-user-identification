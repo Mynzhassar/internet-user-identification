{
 "cells": [
  {
   "cell_type": "markdown",
   "metadata": {},
   "source": [
    "# Неделя 3. Визуальный анализ данных и построение признаков\n",
    "\n",
    "На 3 неделе мы займемся визуальным анализом данных и построением признаков. Сначала мы вместе построим и проанализируем несколько признаков, потом Вы сможете сами придумать и описать различные признаки. Задание имеет вид Peer-Review, так что творчество здесь активно приветствуется. Если задействуете IPython-виджеты, библиотеку Plotly, анимации и прочий интерактив, всем от этого будет только лучше.\n",
    "\n",
    "**План 3 недели:**\n",
    " - Часть 1. Построение признаков\n",
    " - Часть 2. Визуальный анализ данных\n",
    " - Часть 3. Дальнейшее построение признаков\n",
    " - Часть 4. Проверка построенных признаков"
   ]
  },
  {
   "cell_type": "markdown",
   "metadata": {},
   "source": [
    "## Часть 1. Построение признаков"
   ]
  },
  {
   "cell_type": "code",
   "execution_count": 50,
   "metadata": {},
   "outputs": [],
   "source": [
    "from __future__ import division, print_function\n",
    "# отключим всякие предупреждения Anaconda\n",
    "import warnings\n",
    "warnings.filterwarnings('ignore')\n",
    "from glob import glob\n",
    "import os\n",
    "from tqdm import tqdm_notebook\n",
    "import numpy as np\n",
    "import pandas as pd\n",
    "pd.set_option('display.max.columns', 25)\n",
    "import pickle\n",
    "#pip install seaborn\n",
    "import seaborn as sns\n",
    "%matplotlib inline\n",
    "from matplotlib import pyplot as plt\n",
    "import datetime"
   ]
  },
  {
   "cell_type": "code",
   "execution_count": 51,
   "metadata": {},
   "outputs": [],
   "source": [
    "path_to_data = r'C:\\Users\\Диас\\Desktop\\DiaStudy\\internet user identification\\1 data preparation'"
   ]
  },
  {
   "cell_type": "markdown",
   "metadata": {},
   "source": [
    "**Создайте на основе функций *prepare_train_set* и *prepare_sparse_train_set_window*  новую – *prepare_train_set_with_fe*, (от \"feature engineering\"), создайте следующие признаки:**\n",
    "- `session_timespan` – продолжительность сессии (разница между максимальным и минимальным временем посещения сайтов в сессии, в секундах)\n",
    "- `#unique_sites` – число уникальных сайтов в сессии \n",
    "- `start_hour` – час начала сессии (то есть час в записи минимального timestamp среди десяти)\n",
    "- `day_of_week` – день недели (то есть день недели в записи минимального timestamp среди десяти)\n",
    "\n",
    "Функция должна возвращать новый DataFrame (как возвращала функция *prepare_train_set*), только признаков должно быть на 4 больше. Порядок, в котором добавляются признаки: *site1*, ... *site10*, *session_timespan*, *#unique_sites*, *start_hour*, *day_of_week* и *user_id* (это видно и чуть ниже по тому, как функция вызывается)."
   ]
  },
  {
   "cell_type": "code",
   "execution_count": 52,
   "metadata": {},
   "outputs": [],
   "source": [
    "def prepare_train_set_with_fe(path_to_csv_files, site_freq_path, feature_names,\n",
    "                                    session_length=10, window_size=10):\n",
    "    files = glob(path_to_csv_files + \"/*.csv\")\n",
    "    \n",
    "    with open(site_freq_path, 'rb') as f:\n",
    "        site_freq = pickle.load(f)\n",
    "    \n",
    "    sessions = []\n",
    "    \n",
    "    for i, file in enumerate(files):\n",
    "        time_stamp = pd.read_csv(file).iloc[:, 0]\n",
    "        user_session = pd.read_csv(file).iloc[:, 1]\n",
    "        \n",
    "        cur_session = []\n",
    "        cur_time = []\n",
    "        index = 0\n",
    "        \n",
    "        while index < len(user_session):\n",
    "            hour = float('inf')\n",
    "            day = float('inf')\n",
    "    \n",
    "            for j in range(index, min(index + session_length, len(user_session))):\n",
    "                cur_session.append(site_freq[user_session[j]][0])\n",
    "                \n",
    "                y, m, d = time_stamp[j].split()[0].split(\"-\")\n",
    "                day = min(day, datetime.date(int(y), int(m), int(d)).weekday())\n",
    "                \n",
    "                h, m, s = time_stamp[j].split()[1].split(\":\")\n",
    "                hour = min(hour, int(h))\n",
    "                \n",
    "                cur_time.append(int(h) * 3600 + int(m) * 60 + int(s))\n",
    "                \n",
    "            time_diff = [cur_time[i] - cur_time[i - 1] for i in range(1, len(cur_time))]    \n",
    "            unique_sites = len(list(dict.fromkeys(cur_session)))\n",
    "            \n",
    "            while len(cur_session) < session_length: cur_session.append(0)\n",
    "            while len(time_diff) < session_length - 1: time_diff.append(0)\n",
    "            \n",
    "            timespan = sum(time_diff)\n",
    "            sessions.append(cur_session + time_diff + [timespan, unique_sites, hour, day, i + 1])\n",
    "            \n",
    "            index += window_size\n",
    "            cur_session = []\n",
    "            cur_time = []\n",
    "           \n",
    "    df = pd.DataFrame(sessions)\n",
    "    df.columns = feature_names\n",
    "    \n",
    "    return df"
   ]
  },
  {
   "cell_type": "markdown",
   "metadata": {},
   "source": [
    "**Проверим функцию на игрушечном примере.**"
   ]
  },
  {
   "cell_type": "code",
   "execution_count": 53,
   "metadata": {},
   "outputs": [],
   "source": [
    "feature_names = ['site' + str(i) for i in range(1,11)] + \\\n",
    "                ['time_diff' + str(j) for j in range(1,10)] + \\\n",
    "                ['session_timespan', '#unique_sites', 'start_hour', \n",
    "                 'day_of_week', 'target']\n",
    "\n",
    "train_data_3users  = prepare_train_set_with_fe(os.path.join(path_to_data, '3users'), \n",
    "                                               site_freq_path=os.path.join(path_to_data, 'site_freq_3users.pkl'),\n",
    "                                               feature_names=feature_names, session_length=10)"
   ]
  },
  {
   "cell_type": "code",
   "execution_count": 54,
   "metadata": {},
   "outputs": [
    {
     "data": {
      "text/html": [
       "<div>\n",
       "<style scoped>\n",
       "    .dataframe tbody tr th:only-of-type {\n",
       "        vertical-align: middle;\n",
       "    }\n",
       "\n",
       "    .dataframe tbody tr th {\n",
       "        vertical-align: top;\n",
       "    }\n",
       "\n",
       "    .dataframe thead th {\n",
       "        text-align: right;\n",
       "    }\n",
       "</style>\n",
       "<table border=\"1\" class=\"dataframe\">\n",
       "  <thead>\n",
       "    <tr style=\"text-align: right;\">\n",
       "      <th></th>\n",
       "      <th>site1</th>\n",
       "      <th>site2</th>\n",
       "      <th>site3</th>\n",
       "      <th>site4</th>\n",
       "      <th>site5</th>\n",
       "      <th>site6</th>\n",
       "      <th>site7</th>\n",
       "      <th>site8</th>\n",
       "      <th>site9</th>\n",
       "      <th>site10</th>\n",
       "      <th>time_diff1</th>\n",
       "      <th>time_diff2</th>\n",
       "      <th>time_diff3</th>\n",
       "      <th>time_diff4</th>\n",
       "      <th>time_diff5</th>\n",
       "      <th>time_diff6</th>\n",
       "      <th>time_diff7</th>\n",
       "      <th>time_diff8</th>\n",
       "      <th>time_diff9</th>\n",
       "      <th>session_timespan</th>\n",
       "      <th>#unique_sites</th>\n",
       "      <th>start_hour</th>\n",
       "      <th>day_of_week</th>\n",
       "      <th>target</th>\n",
       "    </tr>\n",
       "  </thead>\n",
       "  <tbody>\n",
       "    <tr>\n",
       "      <th>0</th>\n",
       "      <td>10</td>\n",
       "      <td>8</td>\n",
       "      <td>8</td>\n",
       "      <td>4</td>\n",
       "      <td>8</td>\n",
       "      <td>5</td>\n",
       "      <td>1</td>\n",
       "      <td>6</td>\n",
       "      <td>2</td>\n",
       "      <td>9</td>\n",
       "      <td>287</td>\n",
       "      <td>1184</td>\n",
       "      <td>6278</td>\n",
       "      <td>186</td>\n",
       "      <td>2</td>\n",
       "      <td>1</td>\n",
       "      <td>2</td>\n",
       "      <td>3</td>\n",
       "      <td>55</td>\n",
       "      <td>7998</td>\n",
       "      <td>8</td>\n",
       "      <td>9</td>\n",
       "      <td>4</td>\n",
       "      <td>1</td>\n",
       "    </tr>\n",
       "    <tr>\n",
       "      <th>1</th>\n",
       "      <td>10</td>\n",
       "      <td>5</td>\n",
       "      <td>5</td>\n",
       "      <td>5</td>\n",
       "      <td>0</td>\n",
       "      <td>0</td>\n",
       "      <td>0</td>\n",
       "      <td>0</td>\n",
       "      <td>0</td>\n",
       "      <td>0</td>\n",
       "      <td>2</td>\n",
       "      <td>3</td>\n",
       "      <td>55</td>\n",
       "      <td>0</td>\n",
       "      <td>0</td>\n",
       "      <td>0</td>\n",
       "      <td>0</td>\n",
       "      <td>0</td>\n",
       "      <td>0</td>\n",
       "      <td>60</td>\n",
       "      <td>2</td>\n",
       "      <td>12</td>\n",
       "      <td>4</td>\n",
       "      <td>1</td>\n",
       "    </tr>\n",
       "    <tr>\n",
       "      <th>2</th>\n",
       "      <td>10</td>\n",
       "      <td>8</td>\n",
       "      <td>3</td>\n",
       "      <td>3</td>\n",
       "      <td>8</td>\n",
       "      <td>0</td>\n",
       "      <td>0</td>\n",
       "      <td>0</td>\n",
       "      <td>0</td>\n",
       "      <td>0</td>\n",
       "      <td>287</td>\n",
       "      <td>1184</td>\n",
       "      <td>6278</td>\n",
       "      <td>186</td>\n",
       "      <td>0</td>\n",
       "      <td>0</td>\n",
       "      <td>0</td>\n",
       "      <td>0</td>\n",
       "      <td>0</td>\n",
       "      <td>7935</td>\n",
       "      <td>3</td>\n",
       "      <td>9</td>\n",
       "      <td>4</td>\n",
       "      <td>2</td>\n",
       "    </tr>\n",
       "    <tr>\n",
       "      <th>3</th>\n",
       "      <td>7</td>\n",
       "      <td>5</td>\n",
       "      <td>8</td>\n",
       "      <td>5</td>\n",
       "      <td>8</td>\n",
       "      <td>5</td>\n",
       "      <td>5</td>\n",
       "      <td>6</td>\n",
       "      <td>11</td>\n",
       "      <td>7</td>\n",
       "      <td>287</td>\n",
       "      <td>1184</td>\n",
       "      <td>6278</td>\n",
       "      <td>186</td>\n",
       "      <td>2</td>\n",
       "      <td>1</td>\n",
       "      <td>2</td>\n",
       "      <td>3</td>\n",
       "      <td>55</td>\n",
       "      <td>7998</td>\n",
       "      <td>5</td>\n",
       "      <td>9</td>\n",
       "      <td>4</td>\n",
       "      <td>3</td>\n",
       "    </tr>\n",
       "    <tr>\n",
       "      <th>4</th>\n",
       "      <td>7</td>\n",
       "      <td>5</td>\n",
       "      <td>8</td>\n",
       "      <td>0</td>\n",
       "      <td>0</td>\n",
       "      <td>0</td>\n",
       "      <td>0</td>\n",
       "      <td>0</td>\n",
       "      <td>0</td>\n",
       "      <td>0</td>\n",
       "      <td>287</td>\n",
       "      <td>1184</td>\n",
       "      <td>0</td>\n",
       "      <td>0</td>\n",
       "      <td>0</td>\n",
       "      <td>0</td>\n",
       "      <td>0</td>\n",
       "      <td>0</td>\n",
       "      <td>0</td>\n",
       "      <td>1471</td>\n",
       "      <td>3</td>\n",
       "      <td>12</td>\n",
       "      <td>4</td>\n",
       "      <td>3</td>\n",
       "    </tr>\n",
       "  </tbody>\n",
       "</table>\n",
       "</div>"
      ],
      "text/plain": [
       "   site1  site2  site3  site4  site5  site6  site7  site8  site9  site10  \\\n",
       "0     10      8      8      4      8      5      1      6      2       9   \n",
       "1     10      5      5      5      0      0      0      0      0       0   \n",
       "2     10      8      3      3      8      0      0      0      0       0   \n",
       "3      7      5      8      5      8      5      5      6     11       7   \n",
       "4      7      5      8      0      0      0      0      0      0       0   \n",
       "\n",
       "   time_diff1  time_diff2  time_diff3  time_diff4  time_diff5  time_diff6  \\\n",
       "0         287        1184        6278         186           2           1   \n",
       "1           2           3          55           0           0           0   \n",
       "2         287        1184        6278         186           0           0   \n",
       "3         287        1184        6278         186           2           1   \n",
       "4         287        1184           0           0           0           0   \n",
       "\n",
       "   time_diff7  time_diff8  time_diff9  session_timespan  #unique_sites  \\\n",
       "0           2           3          55              7998              8   \n",
       "1           0           0           0                60              2   \n",
       "2           0           0           0              7935              3   \n",
       "3           2           3          55              7998              5   \n",
       "4           0           0           0              1471              3   \n",
       "\n",
       "   start_hour  day_of_week  target  \n",
       "0           9            4       1  \n",
       "1          12            4       1  \n",
       "2           9            4       2  \n",
       "3           9            4       3  \n",
       "4          12            4       3  "
      ]
     },
     "execution_count": 54,
     "metadata": {},
     "output_type": "execute_result"
    }
   ],
   "source": [
    "train_data_3users"
   ]
  },
  {
   "cell_type": "markdown",
   "metadata": {},
   "source": [
    "**Примените функцию *prepare_train_set_with_fe* к данным по 10 пользователям, укажите *session_length*=10.**"
   ]
  },
  {
   "cell_type": "code",
   "execution_count": 55,
   "metadata": {},
   "outputs": [],
   "source": [
    "session_len = 10\n",
    "feature_names = ['site' + str(i) for i in range(1, session_len + 1)] + \\\n",
    "                ['time_diff' + str(j) for j in range(1, session_len)] + \\\n",
    "                ['session_timespan', '#unique_sites', 'start_hour', \n",
    "                 'day_of_week', 'target']"
   ]
  },
  {
   "cell_type": "code",
   "execution_count": 56,
   "metadata": {},
   "outputs": [
    {
     "name": "stdout",
     "output_type": "stream",
     "text": [
      "Wall time: 12.1 s\n"
     ]
    }
   ],
   "source": [
    "%%time\n",
    "\n",
    "train_data_10users = prepare_train_set_with_fe(os.path.join(path_to_data, '10users'), \n",
    "                                               site_freq_path=os.path.join(path_to_data, 'site_freq_10users.pkl'),\n",
    "                                               feature_names=feature_names, session_length=session_len)"
   ]
  },
  {
   "cell_type": "code",
   "execution_count": 57,
   "metadata": {},
   "outputs": [
    {
     "data": {
      "text/html": [
       "<div>\n",
       "<style scoped>\n",
       "    .dataframe tbody tr th:only-of-type {\n",
       "        vertical-align: middle;\n",
       "    }\n",
       "\n",
       "    .dataframe tbody tr th {\n",
       "        vertical-align: top;\n",
       "    }\n",
       "\n",
       "    .dataframe thead th {\n",
       "        text-align: right;\n",
       "    }\n",
       "</style>\n",
       "<table border=\"1\" class=\"dataframe\">\n",
       "  <thead>\n",
       "    <tr style=\"text-align: right;\">\n",
       "      <th></th>\n",
       "      <th>site1</th>\n",
       "      <th>site2</th>\n",
       "      <th>site3</th>\n",
       "      <th>site4</th>\n",
       "      <th>site5</th>\n",
       "      <th>site6</th>\n",
       "      <th>site7</th>\n",
       "      <th>site8</th>\n",
       "      <th>site9</th>\n",
       "      <th>site10</th>\n",
       "      <th>time_diff1</th>\n",
       "      <th>time_diff2</th>\n",
       "      <th>time_diff3</th>\n",
       "      <th>time_diff4</th>\n",
       "      <th>time_diff5</th>\n",
       "      <th>time_diff6</th>\n",
       "      <th>time_diff7</th>\n",
       "      <th>time_diff8</th>\n",
       "      <th>time_diff9</th>\n",
       "      <th>session_timespan</th>\n",
       "      <th>#unique_sites</th>\n",
       "      <th>start_hour</th>\n",
       "      <th>day_of_week</th>\n",
       "      <th>target</th>\n",
       "    </tr>\n",
       "  </thead>\n",
       "  <tbody>\n",
       "    <tr>\n",
       "      <th>0</th>\n",
       "      <td>1314</td>\n",
       "      <td>2306</td>\n",
       "      <td>4318</td>\n",
       "      <td>4172</td>\n",
       "      <td>4318</td>\n",
       "      <td>4318</td>\n",
       "      <td>4172</td>\n",
       "      <td>4318</td>\n",
       "      <td>2455</td>\n",
       "      <td>4318</td>\n",
       "      <td>10</td>\n",
       "      <td>0</td>\n",
       "      <td>0</td>\n",
       "      <td>1</td>\n",
       "      <td>20</td>\n",
       "      <td>1</td>\n",
       "      <td>0</td>\n",
       "      <td>1</td>\n",
       "      <td>0</td>\n",
       "      <td>33</td>\n",
       "      <td>5</td>\n",
       "      <td>8</td>\n",
       "      <td>4</td>\n",
       "      <td>1</td>\n",
       "    </tr>\n",
       "    <tr>\n",
       "      <th>1</th>\n",
       "      <td>4869</td>\n",
       "      <td>3050</td>\n",
       "      <td>2897</td>\n",
       "      <td>941</td>\n",
       "      <td>4318</td>\n",
       "      <td>206</td>\n",
       "      <td>252</td>\n",
       "      <td>1663</td>\n",
       "      <td>2354</td>\n",
       "      <td>3722</td>\n",
       "      <td>1</td>\n",
       "      <td>0</td>\n",
       "      <td>163</td>\n",
       "      <td>105</td>\n",
       "      <td>0</td>\n",
       "      <td>1</td>\n",
       "      <td>3</td>\n",
       "      <td>3</td>\n",
       "      <td>8</td>\n",
       "      <td>284</td>\n",
       "      <td>10</td>\n",
       "      <td>8</td>\n",
       "      <td>4</td>\n",
       "      <td>1</td>\n",
       "    </tr>\n",
       "    <tr>\n",
       "      <th>2</th>\n",
       "      <td>3722</td>\n",
       "      <td>4172</td>\n",
       "      <td>3722</td>\n",
       "      <td>3722</td>\n",
       "      <td>4104</td>\n",
       "      <td>3069</td>\n",
       "      <td>4869</td>\n",
       "      <td>2906</td>\n",
       "      <td>993</td>\n",
       "      <td>3722</td>\n",
       "      <td>0</td>\n",
       "      <td>14</td>\n",
       "      <td>1</td>\n",
       "      <td>242</td>\n",
       "      <td>0</td>\n",
       "      <td>0</td>\n",
       "      <td>1</td>\n",
       "      <td>0</td>\n",
       "      <td>0</td>\n",
       "      <td>258</td>\n",
       "      <td>7</td>\n",
       "      <td>8</td>\n",
       "      <td>4</td>\n",
       "      <td>1</td>\n",
       "    </tr>\n",
       "    <tr>\n",
       "      <th>3</th>\n",
       "      <td>370</td>\n",
       "      <td>1837</td>\n",
       "      <td>370</td>\n",
       "      <td>3722</td>\n",
       "      <td>3722</td>\n",
       "      <td>3722</td>\n",
       "      <td>3722</td>\n",
       "      <td>3589</td>\n",
       "      <td>3056</td>\n",
       "      <td>348</td>\n",
       "      <td>2</td>\n",
       "      <td>1</td>\n",
       "      <td>0</td>\n",
       "      <td>1</td>\n",
       "      <td>25</td>\n",
       "      <td>1</td>\n",
       "      <td>0</td>\n",
       "      <td>0</td>\n",
       "      <td>0</td>\n",
       "      <td>30</td>\n",
       "      <td>6</td>\n",
       "      <td>8</td>\n",
       "      <td>4</td>\n",
       "      <td>1</td>\n",
       "    </tr>\n",
       "    <tr>\n",
       "      <th>4</th>\n",
       "      <td>2993</td>\n",
       "      <td>3722</td>\n",
       "      <td>4104</td>\n",
       "      <td>1659</td>\n",
       "      <td>2336</td>\n",
       "      <td>2915</td>\n",
       "      <td>1759</td>\n",
       "      <td>629</td>\n",
       "      <td>1063</td>\n",
       "      <td>629</td>\n",
       "      <td>1</td>\n",
       "      <td>0</td>\n",
       "      <td>1</td>\n",
       "      <td>1</td>\n",
       "      <td>1</td>\n",
       "      <td>0</td>\n",
       "      <td>1</td>\n",
       "      <td>1</td>\n",
       "      <td>0</td>\n",
       "      <td>6</td>\n",
       "      <td>9</td>\n",
       "      <td>8</td>\n",
       "      <td>4</td>\n",
       "      <td>1</td>\n",
       "    </tr>\n",
       "  </tbody>\n",
       "</table>\n",
       "</div>"
      ],
      "text/plain": [
       "   site1  site2  site3  site4  site5  site6  site7  site8  site9  site10  \\\n",
       "0   1314   2306   4318   4172   4318   4318   4172   4318   2455    4318   \n",
       "1   4869   3050   2897    941   4318    206    252   1663   2354    3722   \n",
       "2   3722   4172   3722   3722   4104   3069   4869   2906    993    3722   \n",
       "3    370   1837    370   3722   3722   3722   3722   3589   3056     348   \n",
       "4   2993   3722   4104   1659   2336   2915   1759    629   1063     629   \n",
       "\n",
       "   time_diff1  time_diff2  time_diff3  time_diff4  time_diff5  time_diff6  \\\n",
       "0          10           0           0           1          20           1   \n",
       "1           1           0         163         105           0           1   \n",
       "2           0          14           1         242           0           0   \n",
       "3           2           1           0           1          25           1   \n",
       "4           1           0           1           1           1           0   \n",
       "\n",
       "   time_diff7  time_diff8  time_diff9  session_timespan  #unique_sites  \\\n",
       "0           0           1           0                33              5   \n",
       "1           3           3           8               284             10   \n",
       "2           1           0           0               258              7   \n",
       "3           0           0           0                30              6   \n",
       "4           1           1           0                 6              9   \n",
       "\n",
       "   start_hour  day_of_week  target  \n",
       "0           8            4       1  \n",
       "1           8            4       1  \n",
       "2           8            4       1  \n",
       "3           8            4       1  \n",
       "4           8            4       1  "
      ]
     },
     "execution_count": 57,
     "metadata": {},
     "output_type": "execute_result"
    }
   ],
   "source": [
    "train_data_10users.head()"
   ]
  },
  {
   "cell_type": "markdown",
   "metadata": {},
   "source": [
    "**Примените функцию *prepare_train_set_with_fe* к данным по 150 пользователям, укажите *session_length*=10.**"
   ]
  },
  {
   "cell_type": "code",
   "execution_count": 58,
   "metadata": {},
   "outputs": [
    {
     "name": "stdout",
     "output_type": "stream",
     "text": [
      "Wall time: 1min 55s\n"
     ]
    }
   ],
   "source": [
    "%%time\n",
    "\n",
    "train_data_150users = prepare_train_set_with_fe(os.path.join(path_to_data, '150users'), \n",
    "                                                site_freq_path=os.path.join(path_to_data, 'site_freq_150users.pkl'),\n",
    "                                                feature_names=feature_names, session_length=session_len)"
   ]
  },
  {
   "cell_type": "markdown",
   "metadata": {},
   "source": [
    "**Сохраните в pickle-файлы признаки *session_timespan*, *#unique_sites*, *start_hour* и *day_of_week* для 10 и 150 пользователей.**"
   ]
  },
  {
   "cell_type": "code",
   "execution_count": 59,
   "metadata": {},
   "outputs": [],
   "source": [
    "new_features = ['session_timespan', '#unique_sites', 'start_hour', 'day_of_week']"
   ]
  },
  {
   "cell_type": "code",
   "execution_count": 60,
   "metadata": {},
   "outputs": [],
   "source": [
    "new_features_10users = train_data_10users[new_features]\n",
    "new_features_150users = train_data_150users[new_features]"
   ]
  },
  {
   "cell_type": "code",
   "execution_count": 61,
   "metadata": {},
   "outputs": [],
   "source": [
    "with open('new_features_10users.pkl', 'wb') as new_features_10users_pkl:\n",
    "    pickle.dump(new_features_10users, new_features_10users_pkl)\n",
    "    \n",
    "with open('new_features_150users.pkl', 'wb') as new_features_150users_pkl:\n",
    "    pickle.dump(new_features_150users, new_features_150users_pkl)"
   ]
  },
  {
   "cell_type": "markdown",
   "metadata": {},
   "source": [
    "## Часть 2. Визуальный анализ данных"
   ]
  },
  {
   "cell_type": "markdown",
   "metadata": {},
   "source": [
    "**Забавы ради, для потехи дадим пользователям имена и ассоциируем с ними цвета.**"
   ]
  },
  {
   "cell_type": "code",
   "execution_count": 62,
   "metadata": {},
   "outputs": [],
   "source": [
    "id_name_dict = {1: 'Mary-Kate', 2: 'Ashley', 3: 'Lindsey', 4: 'Naomi', 5: 'Avril',\n",
    "               6: 'Bob', 7: 'Bill', 8: 'John', 9: 'Dick', 10: 'Ed'}\n",
    "train_data_10users['target'] = train_data_10users['target'].map(id_name_dict)"
   ]
  },
  {
   "cell_type": "code",
   "execution_count": 63,
   "metadata": {},
   "outputs": [],
   "source": [
    "color_dic = {'Mary-Kate': 'pink', 'Ashley': 'darkviolet', 'Lindsey':'blueviolet', \n",
    "             'Naomi': 'hotpink', 'Avril': 'orchid', \n",
    "             'Bob': 'firebrick', 'Bill': 'gold', 'John': 'forestgreen', \n",
    "             'Dick': 'slategrey', 'Ed':'brown'}"
   ]
  },
  {
   "cell_type": "markdown",
   "metadata": {},
   "source": [
    "**1. Постройте гистограмму распределения длины сессии в секундах (*session_timespan*). Ограничьте по *x* значением 200 (иначе слишком тяжелый хвост). Сделайте гистограмму цвета *darkviolet*, подпишите оси по-русски.**"
   ]
  },
  {
   "cell_type": "code",
   "execution_count": 64,
   "metadata": {},
   "outputs": [
    {
     "data": {
      "image/png": "[encoded data removed]",
      "text/plain": [
       "<Figure size 432x288 with 1 Axes>"
      ]
     },
     "metadata": {
      "needs_background": "light"
     },
     "output_type": "display_data"
    }
   ],
   "source": [
    "ax = train_data_10users['session_timespan'].plot(range=[0, 200], kind='hist', color='darkviolet', grid=True)\n",
    "ax.set_xlabel(\"Длина сессии\")\n",
    "ax.set_ylabel(\"Кол-во пользователей\");"
   ]
  },
  {
   "cell_type": "markdown",
   "metadata": {},
   "source": [
    "**2. Постройте гистограмму распределения числа уникальных сайтов в сессии (*#unique_sites*). Сделайте гистограмму цвета *aqua*, подпишите оси по-русски.**"
   ]
  },
  {
   "cell_type": "code",
   "execution_count": 65,
   "metadata": {},
   "outputs": [
    {
     "data": {
      "image/png": "[encoded data removed]",
      "text/plain": [
       "<Figure size 432x288 with 1 Axes>"
      ]
     },
     "metadata": {
      "needs_background": "light"
     },
     "output_type": "display_data"
    }
   ],
   "source": [
    "ax = train_data_10users['#unique_sites'].plot(kind='hist', color='aqua', grid=True)\n",
    "ax.set_xlabel(\"Кол-во уникальных сайтов в сессии\")\n",
    "ax.set_ylabel(\"Кол-во пользователей\");"
   ]
  },
  {
   "cell_type": "markdown",
   "metadata": {},
   "source": [
    "**3. Постройте гистограммы распределения числа уникальных сайтов в сессии (*#unique_sites*) для каждого из 10 пользователей по отдельности. Используйте *subplots*, чтоб разместить все 10 картинок на одной большой. Пометьте легендой каждую картинку, на легенде должно быть написано имя пользователя. Для каждого пользователя раскрасьте гистограмму его/ее цветом (*color_dic*). Подпишите оси по-русски в каждой из 10 гистограмм.**"
   ]
  },
  {
   "cell_type": "code",
   "execution_count": 66,
   "metadata": {},
   "outputs": [
    {
     "data": {
      "image/png": "[encoded data removed]",
      "text/plain": [
       "<Figure size 1152x720 with 12 Axes>"
      ]
     },
     "metadata": {
      "needs_background": "light"
     },
     "output_type": "display_data"
    }
   ],
   "source": [
    "fig, axes = plt.subplots(nrows=3, ncols=4, figsize=(16, 10), sharey=True, sharex=True)\n",
    "\n",
    "for i, name in enumerate(color_dic):\n",
    "    sns.distplot(train_data_10users[train_data_10users['target'] == name][\"#unique_sites\"],\n",
    "                 color = color_dic[name], ax=axes[i//4, i%4], kde=False, label=name)\n",
    "    \n",
    "    axes[i//4, i%4].set_xlabel(\"Кол-во уникальных сайтов\")\n",
    "    axes[i//4, i%4].set_ylabel(\"Кол-во сессий\")\n",
    "    axes[i//4, i%4].grid()\n",
    "    axes[i//4, i%4].legend()"
   ]
  },
  {
   "cell_type": "markdown",
   "metadata": {},
   "source": [
    "**6. Постройте гистограмму распределения часа начала сессии (*start_hour*). Сделайте гистограмму цвета *darkgreen*, подпишите оси по-русски.**"
   ]
  },
  {
   "cell_type": "code",
   "execution_count": 67,
   "metadata": {},
   "outputs": [
    {
     "data": {
      "image/png": "[encoded data removed]",
      "text/plain": [
       "<Figure size 432x288 with 1 Axes>"
      ]
     },
     "metadata": {
      "needs_background": "light"
     },
     "output_type": "display_data"
    }
   ],
   "source": [
    "ax = train_data_10users['start_hour'].plot(kind = 'hist', color='darkgreen', grid=True)\n",
    "ax.set_xlabel(\"Час начала сессии\")\n",
    "ax.set_ylabel(\"Кол-во пользователей\");"
   ]
  },
  {
   "cell_type": "markdown",
   "metadata": {},
   "source": [
    "**5. Постройте гистограммы распределения часа начала сессии (*start_hour*) для каждого из 10 пользователей по отдельности. Используйте *subplots*, чтоб разместить все 10 картинок на одной большой. Пометьте легендой каждую картинку, на легенде должно быть написано имя пользователя. Для каждого пользователя раскрасьте гистограмму его/ее цветом (*color_dic*). Подпишите оси по-русски в каждой из 10 гистограмм.**"
   ]
  },
  {
   "cell_type": "code",
   "execution_count": 68,
   "metadata": {},
   "outputs": [
    {
     "data": {
      "image/png": "[encoded data removed]",
      "text/plain": [
       "<Figure size 1152x720 with 12 Axes>"
      ]
     },
     "metadata": {
      "needs_background": "light"
     },
     "output_type": "display_data"
    }
   ],
   "source": [
    "fig, axes = plt.subplots(nrows=3, ncols=4, figsize=(16, 10), sharey=True)\n",
    "\n",
    "for i, name in enumerate(color_dic):\n",
    "    sns.distplot(train_data_10users[train_data_10users['target'] == name][\"start_hour\"],\n",
    "                 color = color_dic[name], ax=axes[i//4, i%4], kde=False, label=name)\n",
    "    \n",
    "    axes[i//4, i%4].set_xlabel(\"Время начала сессии\")\n",
    "    axes[i//4, i%4].set_ylabel(\"Кол-во сессий\")\n",
    "    axes[i//4, i%4].grid()\n",
    "    axes[i//4, i%4].legend()"
   ]
  },
  {
   "cell_type": "markdown",
   "metadata": {},
   "source": [
    "**6. Постройте гистограмму распределения дня недели, в который началась сессия (*day_of_week*). Сделайте гистограмму цвета *sienna*, подпишите оси по-русски.**"
   ]
  },
  {
   "cell_type": "code",
   "execution_count": 69,
   "metadata": {},
   "outputs": [
    {
     "data": {
      "image/png": "[encoded data removed]",
      "text/plain": [
       "<Figure size 432x288 with 1 Axes>"
      ]
     },
     "metadata": {
      "needs_background": "light"
     },
     "output_type": "display_data"
    }
   ],
   "source": [
    "ax = train_data_10users['day_of_week'].plot(kind='hist', color='sienna', grid=True)\n",
    "ax.set_xlabel(\"День недели начала сессии\")\n",
    "ax.set_ylabel(\"Кол-во пользователей\");"
   ]
  },
  {
   "cell_type": "markdown",
   "metadata": {},
   "source": [
    "**7. Постройте гистограммы распределения дня недели, в который началась сессия (*day_of_week*) для каждого из 10 пользователей по отдельности. Используйте *subplots*, чтоб разместить все 10 картинок на одной большой. Измените метки по оси *X* на ['Пн', 'Вт', 'Ср', 'Чт', 'Пт', 'Сб', 'Вс'] – метод *set_xticklabels*. Пометьте легендой каждую картинку, на легенде должно быть написано имя пользователя. Для каждого пользователя раскрасьте гистограмму его/ее цветом (*color_dic*). Подпишите по-русски название каждой из 10 гистограмм.**"
   ]
  },
  {
   "cell_type": "code",
   "execution_count": 70,
   "metadata": {},
   "outputs": [
    {
     "data": {
      "image/png": "[encoded data removed]",
      "text/plain": [
       "<Figure size 1152x720 with 12 Axes>"
      ]
     },
     "metadata": {
      "needs_background": "light"
     },
     "output_type": "display_data"
    }
   ],
   "source": [
    "fig, axes = plt.subplots(nrows=3, ncols=4, figsize=(16, 10), sharey=True)\n",
    "\n",
    "for i, name in enumerate(color_dic):\n",
    "    sns.distplot(train_data_10users[train_data_10users['target'] == name][\"day_of_week\"],\n",
    "                 color = color_dic[name], ax=axes[i//4, i%4], kde=False, label=name)\n",
    "    \n",
    "    axes[i//4, i%4].set_xlabel(\"День начала сессии\")\n",
    "    axes[i//4, i%4].set_ylabel(\"Кол-во сессий\")\n",
    "    axes[i//4, i%4].grid()\n",
    "    axes[i//4, i%4].legend()"
   ]
  },
  {
   "cell_type": "markdown",
   "metadata": {},
   "source": [
    "**8. Сделайте выводы про каждого пользователя по построенным графикам.**"
   ]
  },
  {
   "cell_type": "markdown",
   "metadata": {},
   "source": [
    "* Mary-Kate - в гистограмме уникальных сайтов в сессии преобладает значение 8, значений меньших 3 почти нет, либо очень мало. Из гафика \"Время начала сессии\" видно, что сессию в основном начинает в отрезке 10-12 либо же 14-15, на эти значения приходит пики. Что касается дня начала сессии, то пик приходится на 4-день.\n",
    "* Ashley - в сессии в основном 6-7 уникальных сайтов, что видно из графика, затем идет спад. Время начала сессии в основном в 10 часов, также наблюдается ещё один пик в значении 15. Большая часть сессии начинаются во 3-4 дни недели, здесь пик.\n",
    "* Lindsey - первый пик на графике количества уникальных сайтов наблюдается в значении 1, затем идет спад и пик 7-9. Время начала сессии большая часть в 9-10, затем спад и немного сессий сосредоточены в 14-15, после этого сессий вообще не было или очень мало. Пик дня начала сессии - 2-день.\n",
    "* Naomi - в гистограмме уникальных сайтов в сессии преобладает значение 8. Пик начала сессий приходится на значение 15. Почти все сессии были начаты в начале недели, дальше идет спад.\n",
    "* Avril - в основном 2-3 сайта в сессии, остальных значений немного меньше и они почти равномерно распределены. То же самое можно сказать и о времени начала сессии, небольшой пик в значении 16-17. Дни начала сессиий приходятся в основном на конец недели. \n",
    "* Bob - количество уникальных сайтов в сессии увеличивается при движении вправо, достигает своего пика в отрезке 6-7, затем снова убывает. Время начала сессии имеет почти нормальное распределение (немного тяжелые хвосты), с пиком в значении 14. На графике дня начала сессии пик в значении 3.\n",
    "* Bill - больше всего 2 уникальных сайтов, затем идет резкий спад. График времени начала сессии почти равномерный с пиками в отрезках 9-10, 19-21. День начала сессии - большинство значений сосредоточены в 5-6. \n",
    "* John - график распределения количества уникальных частот имеет вид нормального распределения, за исключением того, что график немного скошен вправо, с пиком в 7. Что касается графика времени начала сессии, то оно-унимодальное с пиками в значениях 12 и 14. В графике \"День начала сессии\" виден резкий скачок в значении 1, затем постепенный спад.\n",
    "* Dick - график распределения количества уникальных частот имеет вид нормального распределения с пиком в 6. График времени начала сессии с пиками в значениях 12 и 14. День начала сессии - небольшой пик в значении 1, в целом распределение в почти равномерное. \n",
    "* Ed - в целом у пользователя сравнительно мало сессий по сравнению с остальными, пик в значении 8. Время начала сессии резкий скачок в значении 15, остальные значения распределены равномерно. День начала сессии во 2-день."
   ]
  },
  {
   "cell_type": "markdown",
   "metadata": {},
   "source": [
    "**Загрузите сохраненный ранее в pickle-файл частотный словарь сайтов для 10 пользователей. **"
   ]
  },
  {
   "cell_type": "code",
   "execution_count": 71,
   "metadata": {},
   "outputs": [],
   "source": [
    "with open(os.path.join(path_to_data, 'site_freq_10users.pkl'), 'rb') as f:\n",
    "    site_freq = pickle.load(f)\n",
    "    \n",
    "site_freq = {site: site_freq[site][1] for site in site_freq}\n",
    "site_freq = {site: site_freq[site] for site in sorted(site_freq, key=site_freq.get, reverse=True)}"
   ]
  },
  {
   "cell_type": "markdown",
   "metadata": {},
   "source": [
    "**Определите топ-10 самых посещаемых сайтов (*top10_sites*) и соответствующие кол-ва посещений (*top10_freqs*).**"
   ]
  },
  {
   "cell_type": "code",
   "execution_count": 72,
   "metadata": {},
   "outputs": [],
   "source": [
    "top = 10\n",
    "\n",
    "top10_sites = [site for site in site_freq][:top]\n",
    "top10_freqs = [site_freq[site] for site in site_freq][:top]"
   ]
  },
  {
   "cell_type": "markdown",
   "metadata": {},
   "source": [
    "**9. Нарисуйте *seaborn barplot*, показывающий частоты посещений топ-10 сайтов. Сделайте подписи сайтов вертикальными, иначе они сливаются (*xticks*).**"
   ]
  },
  {
   "cell_type": "code",
   "execution_count": 73,
   "metadata": {},
   "outputs": [
    {
     "data": {
      "image/png": "[encoded data removed]",
      "text/plain": [
       "<Figure size 432x288 with 1 Axes>"
      ]
     },
     "metadata": {
      "needs_background": "light"
     },
     "output_type": "display_data"
    }
   ],
   "source": [
    "sns.barplot(top10_freqs, top10_sites);"
   ]
  },
  {
   "cell_type": "markdown",
   "metadata": {},
   "source": [
    "## Часть 3. Проверка построенных признаков\n",
    "Эта часть скорее техническая, смысл ее – убедиться, что мы все одинаково создали признаки *session_timespan, #unique_sites, start_hour* и *day_of_week*."
   ]
  },
  {
   "cell_type": "markdown",
   "metadata": {},
   "source": [
    "**10. Выведите медианную продолжительность сессии (*session_timespan*) для сессий 10 пользователей.**"
   ]
  },
  {
   "cell_type": "code",
   "execution_count": 74,
   "metadata": {},
   "outputs": [
    {
     "data": {
      "text/plain": [
       "33.0"
      ]
     },
     "execution_count": 74,
     "metadata": {},
     "output_type": "execute_result"
    }
   ],
   "source": [
    "np.median(train_data_10users.session_timespan)"
   ]
  },
  {
   "cell_type": "markdown",
   "metadata": {},
   "source": [
    "**11. Выведите медианный день недели, в который началась сессия, для сессий 10 пользователей.**"
   ]
  },
  {
   "cell_type": "code",
   "execution_count": 75,
   "metadata": {},
   "outputs": [
    {
     "data": {
      "text/plain": [
       "2.0"
      ]
     },
     "execution_count": 75,
     "metadata": {},
     "output_type": "execute_result"
    }
   ],
   "source": [
    "np.median(train_data_10users.day_of_week)"
   ]
  },
  {
   "cell_type": "markdown",
   "metadata": {},
   "source": [
    "**12. Выведите медианный час начала сессии для сессий 150 пользователей.**"
   ]
  },
  {
   "cell_type": "code",
   "execution_count": 76,
   "metadata": {},
   "outputs": [
    {
     "data": {
      "text/plain": [
       "13.0"
      ]
     },
     "execution_count": 76,
     "metadata": {},
     "output_type": "execute_result"
    }
   ],
   "source": [
    "np.median(train_data_150users.start_hour)"
   ]
  },
  {
   "cell_type": "markdown",
   "metadata": {},
   "source": [
    "**13. Выведите медианное значение числа уникальных сайтов в сессиях 150 пользователей.**"
   ]
  },
  {
   "cell_type": "code",
   "execution_count": 77,
   "metadata": {},
   "outputs": [
    {
     "data": {
      "text/plain": [
       "7.0"
      ]
     },
     "execution_count": 77,
     "metadata": {},
     "output_type": "execute_result"
    }
   ],
   "source": [
    "np.median(train_data_150users['#unique_sites'])"
   ]
  },
  {
   "cell_type": "markdown",
   "metadata": {},
   "source": [
    "## Часть 4. Дальнейшее построение признаков"
   ]
  },
  {
   "cell_type": "markdown",
   "metadata": {},
   "source": [
    "Это задание творческое, тут надо придумать, как еще учесть время посещения веб-страниц и прочие признаки. \n",
    "\n",
    "В этой части задания Вы можете построить и визуально исследовать самые разные признаки (ничто фантазию не ограничивает):\n",
    "- год, месяц и день начала сессии\n",
    "- час начала сессии (с учетом года, месяца и дня)\n",
    "- время суток\n",
    "- среднее время пребывания на сайте, посчитать можно, скажем, для топ-30 популярных сайтов\n",
    "- индикаторы посещения популярных сайтов (скажем, тоже для топ-30 популярных сайтов)\n",
    "- частота посещения Facebook\n",
    "- ..."
   ]
  },
  {
   "cell_type": "markdown",
   "metadata": {},
   "source": [
    "**Напишите функцию для создания новых признаков и примените ее к исходным данным – каталогам с 10 и 150 файлами. Сделайте это только для набора данных, полученного с параметрами *session_length=10* и *window_size=10*. Сериализуйте полученные матрицы с помощью pickle. Функция может возвращать как только новые признаки, так и старые с новыми. При этом сигнатура функции может быть другой – тут уже свобода выбора.**"
   ]
  },
  {
   "cell_type": "code",
   "execution_count": 78,
   "metadata": {},
   "outputs": [],
   "source": [
    "def feature_engineering(path_to_csv_files, path_to_dict, session_length=10, window_size=10):\n",
    "    files = glob(path_to_csv_files + \"/*.csv\")\n",
    "    \n",
    "    with open(path_to_dict, 'rb') as f:\n",
    "        site_freq = pickle.load(f)\n",
    "    \n",
    "    sessions = []\n",
    "    \n",
    "    for i, file in enumerate(files):\n",
    "        time_stamp = pd.read_csv(file).iloc[:, 0]\n",
    "        user_session = pd.read_csv(file).iloc[:, 1]\n",
    "        \n",
    "        cur_session = []\n",
    "        cur_time = []\n",
    "        index = 0\n",
    "        \n",
    "        while index < len(user_session):\n",
    "            start_hour = float('inf')\n",
    "            start_day_week = float('inf')\n",
    "            \n",
    "            start_day = float('inf')\n",
    "            start_month = float('inf')\n",
    "            start_year = float('inf')\n",
    "            \n",
    "            for j in range(index, min(index + session_length, len(user_session))):\n",
    "                cur_session.append(site_freq[user_session[j]][0])\n",
    "                \n",
    "                year, month, day = time_stamp[j].split()[0].split(\"-\")\n",
    "                year, month, day = int(year), int(month), int(day)\n",
    "                \n",
    "                start_day_week = min(start_day, datetime.date(year, month, day).weekday())\n",
    "                start_day = min(start_day, day)\n",
    "                start_month = min(start_month, month)\n",
    "                start_year = min(start_year, year)\n",
    "                \n",
    "                hour, minute, second = time_stamp[j].split()[1].split(\":\")\n",
    "                hour, minute, second = int(hour), int(minute), int(second)\n",
    "                start_hour = min(start_hour, hour)\n",
    "                \n",
    "                cur_time.append(hour * 3600 + minute * 60 + second)\n",
    "                \n",
    "            time_diff = [cur_time[i] - cur_time[i - 1] for i in range(1, len(cur_time))]    \n",
    "            unique_sites = len(dict.fromkeys(cur_session))\n",
    "            \n",
    "            while len(cur_session) < session_length: cur_session.append(0)\n",
    "            while len(time_diff) < session_length - 1: time_diff.append(0)\n",
    "            \n",
    "            time_info = [start_hour, np.sum(time_diff), np.mean(cur_time)]\n",
    "            date_info = [start_day_week, start_day, start_month, start_year]\n",
    "            \n",
    "            sessions.append(cur_session + time_diff + time_info + [unique_sites] + date_info + [i + 1])\n",
    "            \n",
    "            index += window_size\n",
    "            cur_session = []\n",
    "            cur_time = []\n",
    "            \n",
    "    df = pd.DataFrame(sessions)\n",
    "    feature_names = ['site' + str(i) for i in range(1, session_length + 1)] + \\\n",
    "                    ['time_diff' + str(j) for j in range(1, session_length)] + \\\n",
    "                    ['start_hour', 'session_timespan', 'avg_time', '#unique_sites',\n",
    "                    'day_week', 'day', 'month', 'year', 'target']\n",
    "    \n",
    "    df.columns = feature_names\n",
    "    return df"
   ]
  },
  {
   "cell_type": "code",
   "execution_count": 79,
   "metadata": {},
   "outputs": [
    {
     "name": "stdout",
     "output_type": "stream",
     "text": [
      "Wall time: 11.9 s\n"
     ]
    }
   ],
   "source": [
    "%%time\n",
    "\n",
    "new_features_10users = feature_engineering(os.path.join(path_to_data, '10users'), \n",
    "                                           os.path.join(path_to_data, 'site_freq_10users.pkl'))"
   ]
  },
  {
   "cell_type": "code",
   "execution_count": 80,
   "metadata": {},
   "outputs": [
    {
     "name": "stdout",
     "output_type": "stream",
     "text": [
      "Wall time: 1min 59s\n"
     ]
    }
   ],
   "source": [
    "%%time\n",
    "\n",
    "new_features_150users = feature_engineering(os.path.join(path_to_data, '150users'), \n",
    "                                            os.path.join(path_to_data, 'site_freq_150users.pkl'))"
   ]
  },
  {
   "cell_type": "code",
   "execution_count": 81,
   "metadata": {},
   "outputs": [],
   "source": [
    "new_features = ['avg_time', 'day', 'month', 'year']"
   ]
  },
  {
   "cell_type": "markdown",
   "metadata": {},
   "source": [
    "**14. Постройте картинки для новых признаков, поисследуйте их, прокомментируйте результаты.**"
   ]
  },
  {
   "cell_type": "code",
   "execution_count": 82,
   "metadata": {},
   "outputs": [
    {
     "data": {
      "image/png": "[encoded data removed]",
      "text/plain": [
       "<Figure size 864x504 with 4 Axes>"
      ]
     },
     "metadata": {
      "needs_background": "light"
     },
     "output_type": "display_data"
    }
   ],
   "source": [
    "colors = ['darkviolet', 'aqua', 'darkgreen', 'sienna']\n",
    "fig, axes = plt.subplots(nrows=2, ncols=2, figsize=(12, 7))\n",
    "\n",
    "for i, feature in enumerate(new_features):\n",
    "    sns.distplot(new_features_10users[feature], ax=axes[i//2, i%2], \n",
    "                 kde=False, label=feature, color=colors[i])\n",
    "    axes[i//2, i%2].grid()\n",
    "    axes[i//2, i%2].legend()"
   ]
  },
  {
   "cell_type": "markdown",
   "metadata": {},
   "source": [
    "1. Средняя продолжительность сессии в секундах - пик приходится примерно на 52 000 - 54 000 секунд, затем идет спад. Второй пик 30 000 - 40 000 секунд.\n",
    "2. День начала сессии - здесь также видим, что значения распределены примерно равномерно. Первый пик в числах 4-5, затем идет резкий спад, второй пик 19-20\n",
    "3. Месяц начала сессии - по графику видно, что сессии в основном начинались в феврале, т.к. большинство значений сосредоточены во 2-месяце. Следут идут апрель и конец осени.\n",
    "4. Год начала сессии - почти все сессии начались в 2014-годы, лишь немногие в 2013."
   ]
  },
  {
   "cell_type": "markdown",
   "metadata": {},
   "source": [
    "**В конце сохраните в pickle-файлы только те признаки, которые, как Вы предполагаете, помогут идентифицировать пользователя более точно. Это касается и признаков, которые мы вместе создали в начале (*session_timespan, #unique_sites, start_hour, day_of_week*), и Ваших собственных. Можно создать все эти признаки не только для сессий из 10 сайтов, но и для других сочетаний параметров *session_length* и *window_size*.**"
   ]
  },
  {
   "cell_type": "code",
   "execution_count": 83,
   "metadata": {},
   "outputs": [],
   "source": [
    "selected_features_10users = ['session_timespan', '#unique_sites', 'start_hour', 'day_of_week', 'avg_time', 'day'] \n",
    "selected_features_150users = ['session_timespan', '#unique_sites', 'start_hour', 'day_of_week', 'avg_time', 'day'] "
   ]
  },
  {
   "cell_type": "code",
   "execution_count": 84,
   "metadata": {},
   "outputs": [],
   "source": [
    "with open('selected_features_10users.pkl', 'wb') as selected_features_10users_pkl:\n",
    "    pickle.dump(selected_features_10users, selected_features_10users_pkl, protocol=2)\n",
    "\n",
    "with open('selected_features_150users.pkl', 'wb') as selected_features_150users_pkl:\n",
    "    pickle.dump(selected_features_150users, selected_features_150users_pkl, protocol=2)"
   ]
  },
  {
   "cell_type": "markdown",
   "metadata": {},
   "source": [
    "## Критерии оценки работы:\n",
    "- Верно ли отображена гистограмма session_timespan из п. 1? (max. 3 балла)\n",
    "- Верно ли отображена гистограмма #unique_sites из п. 2? (max. 3 балла)\n",
    "- Верно ли отображены гистограммы #unique_sites по каждому пользователю из п. 3? (max. 6 баллов)\n",
    "- Верно ли отображена гистограмма start_hour из п. 4? (max. 3 балла)\n",
    "- Верно ли отображены гистограммы start_hour по каждому пользователю из п. 5? (max. 6 баллов)\n",
    "- Верно ли отображена гистограмма day_of_week из п. 6? (max. 3 балла)\n",
    "- Верно ли отображены гистограммы day_of_week по каждому пользователю из п. 7? (max. 6 баллов)\n",
    "- Насколько сделанные выводы в п. 8 соответствуют построенным картинкам? (max. 6 баллов)\n",
    "- Верно ли отображен barplot для 10 популярных сайтов из п. 9? (max. 6 баллов)\n",
    "- Правильно ли посчитана медианная продолжительность сессий в п. 10? (max. 3 балла)\n",
    "- Правильно ли посчитан медианный день недели начала сессии в п. 11? (max. 3 балла)\n",
    "- Правильно ли посчитан медианный час начала сессии в п. 12? (max. 3 балла)\n",
    "- Правильно ли посчитано медианное значение числа уникальных сайтов в сессиях 150 пользователей п. 13? (max. 3 балла)\n",
    "- Есть ли оригинальные построенные признаки и картинки к ним? Оцените также и качество картинок. (max. 8 баллов)"
   ]
  },
  {
   "cell_type": "code",
   "execution_count": null,
   "metadata": {},
   "outputs": [],
   "source": []
  }
 ],
 "metadata": {
  "anaconda-cloud": {},
  "kernelspec": {
   "display_name": "Python 3",
   "language": "python",
   "name": "python3"
  },
  "language_info": {
   "codemirror_mode": {
    "name": "ipython",
    "version": 3
   },
   "file_extension": ".py",
   "mimetype": "text/x-python",
   "name": "python",
   "nbconvert_exporter": "python",
   "pygments_lexer": "ipython3",
   "version": "3.7.3"
  }
 },
 "nbformat": 4,
 "nbformat_minor": 1
}
